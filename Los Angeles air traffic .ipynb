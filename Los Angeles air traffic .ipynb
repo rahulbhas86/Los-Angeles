{
 "cells": [
  {
   "cell_type": "code",
   "execution_count": 1,
   "metadata": {},
   "outputs": [],
   "source": [
    "import pandas as pd\n",
    "import numpy as np\n",
    "import matplotlib.pyplot as plt\n",
    "import seaborn as sns\n",
    "import matplotlib as mpl\n",
    "%matplotlib inline"
   ]
  },
  {
   "cell_type": "code",
   "execution_count": 2,
   "metadata": {},
   "outputs": [],
   "source": [
    "mpl.rcParams.update(mpl.rcParamsDefault)"
   ]
  },
  {
   "cell_type": "code",
   "execution_count": 3,
   "metadata": {},
   "outputs": [],
   "source": [
    "cargo = pd.read_csv('los_angeles_airport/los-angeles-international-airport-air-cargo-volume.csv')\n",
    "carrier = pd.read_csv('los_angeles_airport/los-angeles-international-airport-passenger-count-by-carrier-type.csv')"
   ]
  },
  {
   "cell_type": "code",
   "execution_count": 4,
   "metadata": {},
   "outputs": [
    {
     "data": {
      "text/plain": [
       "DataExtractDate           object\n",
       "ReportPeriod              object\n",
       "Arrival_Departure         object\n",
       "Domestic_International    object\n",
       "CargoType                 object\n",
       "AirCargoTons               int64\n",
       "dtype: object"
      ]
     },
     "execution_count": 4,
     "metadata": {},
     "output_type": "execute_result"
    }
   ],
   "source": [
    "cargo.dtypes"
   ]
  },
  {
   "cell_type": "code",
   "execution_count": 5,
   "metadata": {},
   "outputs": [],
   "source": [
    "def dd(x):\n",
    "    return x.split('T')[0]"
   ]
  },
  {
   "cell_type": "code",
   "execution_count": 6,
   "metadata": {},
   "outputs": [],
   "source": [
    "cargo['YearMonth'] = cargo['DataExtractDate'].apply(dd)\n",
    "cargo['YearMonth'] = pd.to_datetime(cargo['YearMonth'])"
   ]
  },
  {
   "cell_type": "code",
   "execution_count": 7,
   "metadata": {},
   "outputs": [
    {
     "data": {
      "text/html": [
       "<div>\n",
       "<style scoped>\n",
       "    .dataframe tbody tr th:only-of-type {\n",
       "        vertical-align: middle;\n",
       "    }\n",
       "\n",
       "    .dataframe tbody tr th {\n",
       "        vertical-align: top;\n",
       "    }\n",
       "\n",
       "    .dataframe thead th {\n",
       "        text-align: right;\n",
       "    }\n",
       "</style>\n",
       "<table border=\"1\" class=\"dataframe\">\n",
       "  <thead>\n",
       "    <tr style=\"text-align: right;\">\n",
       "      <th></th>\n",
       "      <th>DataExtractDate</th>\n",
       "      <th>ReportPeriod</th>\n",
       "      <th>Arrival_Departure</th>\n",
       "      <th>Domestic_International</th>\n",
       "      <th>CargoType</th>\n",
       "      <th>AirCargoTons</th>\n",
       "      <th>YearMonth</th>\n",
       "    </tr>\n",
       "  </thead>\n",
       "  <tbody>\n",
       "    <tr>\n",
       "      <th>0</th>\n",
       "      <td>2014-05-01T00:00:00.000</td>\n",
       "      <td>2006-01-01T00:00:00.000</td>\n",
       "      <td>Arrival</td>\n",
       "      <td>Domestic</td>\n",
       "      <td>Freight</td>\n",
       "      <td>35703</td>\n",
       "      <td>2014-05-01</td>\n",
       "    </tr>\n",
       "    <tr>\n",
       "      <th>1</th>\n",
       "      <td>2014-05-01T00:00:00.000</td>\n",
       "      <td>2006-01-01T00:00:00.000</td>\n",
       "      <td>Arrival</td>\n",
       "      <td>Domestic</td>\n",
       "      <td>Mail</td>\n",
       "      <td>3209</td>\n",
       "      <td>2014-05-01</td>\n",
       "    </tr>\n",
       "    <tr>\n",
       "      <th>2</th>\n",
       "      <td>2014-05-01T00:00:00.000</td>\n",
       "      <td>2006-01-01T00:00:00.000</td>\n",
       "      <td>Arrival</td>\n",
       "      <td>International</td>\n",
       "      <td>Freight</td>\n",
       "      <td>46391</td>\n",
       "      <td>2014-05-01</td>\n",
       "    </tr>\n",
       "    <tr>\n",
       "      <th>3</th>\n",
       "      <td>2014-05-01T00:00:00.000</td>\n",
       "      <td>2006-01-01T00:00:00.000</td>\n",
       "      <td>Arrival</td>\n",
       "      <td>International</td>\n",
       "      <td>Mail</td>\n",
       "      <td>548</td>\n",
       "      <td>2014-05-01</td>\n",
       "    </tr>\n",
       "    <tr>\n",
       "      <th>4</th>\n",
       "      <td>2014-05-01T00:00:00.000</td>\n",
       "      <td>2006-01-01T00:00:00.000</td>\n",
       "      <td>Departure</td>\n",
       "      <td>Domestic</td>\n",
       "      <td>Freight</td>\n",
       "      <td>36702</td>\n",
       "      <td>2014-05-01</td>\n",
       "    </tr>\n",
       "  </tbody>\n",
       "</table>\n",
       "</div>"
      ],
      "text/plain": [
       "           DataExtractDate             ReportPeriod Arrival_Departure  \\\n",
       "0  2014-05-01T00:00:00.000  2006-01-01T00:00:00.000           Arrival   \n",
       "1  2014-05-01T00:00:00.000  2006-01-01T00:00:00.000           Arrival   \n",
       "2  2014-05-01T00:00:00.000  2006-01-01T00:00:00.000           Arrival   \n",
       "3  2014-05-01T00:00:00.000  2006-01-01T00:00:00.000           Arrival   \n",
       "4  2014-05-01T00:00:00.000  2006-01-01T00:00:00.000         Departure   \n",
       "\n",
       "  Domestic_International CargoType  AirCargoTons  YearMonth  \n",
       "0               Domestic   Freight         35703 2014-05-01  \n",
       "1               Domestic      Mail          3209 2014-05-01  \n",
       "2          International   Freight         46391 2014-05-01  \n",
       "3          International      Mail           548 2014-05-01  \n",
       "4               Domestic   Freight         36702 2014-05-01  "
      ]
     },
     "execution_count": 7,
     "metadata": {},
     "output_type": "execute_result"
    }
   ],
   "source": [
    "cargo.head()"
   ]
  },
  {
   "cell_type": "code",
   "execution_count": 8,
   "metadata": {},
   "outputs": [
    {
     "data": {
      "text/plain": [
       "count                    1280\n",
       "unique                     60\n",
       "top       2014-05-01 00:00:00\n",
       "freq                      792\n",
       "first     2014-05-01 00:00:00\n",
       "last      2019-05-15 00:00:00\n",
       "Name: YearMonth, dtype: object"
      ]
     },
     "execution_count": 8,
     "metadata": {},
     "output_type": "execute_result"
    }
   ],
   "source": [
    "cargo['YearMonth'].describe()"
   ]
  },
  {
   "cell_type": "code",
   "execution_count": 9,
   "metadata": {},
   "outputs": [
    {
     "data": {
      "text/plain": [
       "count     1280.000000\n",
       "mean     21249.753906\n",
       "std      21172.191210\n",
       "min        454.000000\n",
       "25%       1679.000000\n",
       "50%      15392.500000\n",
       "75%      37013.500000\n",
       "max      82352.000000\n",
       "Name: AirCargoTons, dtype: float64"
      ]
     },
     "execution_count": 9,
     "metadata": {},
     "output_type": "execute_result"
    }
   ],
   "source": [
    "cargo['AirCargoTons'].describe()"
   ]
  },
  {
   "cell_type": "code",
   "execution_count": 10,
   "metadata": {},
   "outputs": [
    {
     "data": {
      "text/plain": [
       "<Figure size 1200x1000 with 0 Axes>"
      ]
     },
     "metadata": {},
     "output_type": "display_data"
    },
    {
     "data": {
      "image/png": "[encoded data removed]",
      "text/plain": [
       "<Figure size 640x480 with 1 Axes>"
      ]
     },
     "metadata": {},
     "output_type": "display_data"
    }
   ],
   "source": [
    "plt.style.use('seaborn-whitegrid')\n",
    "plt.figure(figsize=(12,10))\n",
    "fig, ax = plt.subplots()\n",
    "\n",
    "\n",
    "sns.lineplot(x=cargo['YearMonth'], y=cargo['AirCargoTons'], size=cargo['CargoType'],\n",
    "             sizes=(1.5,4.25),ci=None, hue=cargo['CargoType'],ax=ax,legend=False,palette=['#ac3973','gray'])\n",
    "\n",
    "ax.tick_params(direction='out',axis='x',which='major',bottom=True,top=False,\n",
    "               length=12,width=2,color='gray')\n",
    "ax.set_xticklabels(['Year',2014,2015,2016,2017,2018,2019])\n",
    "ax.set_ylim(200,60000)\n",
    "ax.set_xlim('2013-01-01','2019-12-15')\n",
    "ax.set_ylabel('Air Cargo(in Tons)')\n",
    "ax.set_xlabel(None)\n",
    "ax.set_title('Air-Cargo average volume growth',loc='left',fontsize=14,pad=28.2)\n",
    "\n",
    "ax.grid(None)\n",
    "ax.spines['top'].set_visible(False)\n",
    "ax.spines['right'].set_visible(False)\n",
    "\n",
    "ax.text('2019-05-30',4000,'mail',fontsize=12,color='gray')\n",
    "ax.text('2019-05-30',49990,'freight',fontsize=12,color='#ac3973')\n",
    "ax.text('2014-05-01',55000,'2014/May: \\n data collection starts',fontsize=10.5,color='#c6538c')\n",
    "ax.text('2017-04-01', 55000,'2017/April - 2019/May: \\n stabilised growth cycle?',fontsize=10.5,color='#c6538c')\n",
    "plt.show()"
   ]
  },
  {
   "cell_type": "code",
   "execution_count": 11,
   "metadata": {},
   "outputs": [],
   "source": [
    "carrier['YearMonth'] = carrier['DataExtractDate'].apply(dd)\n",
    "carrier['YearMonth'] = pd.to_datetime(carrier['YearMonth'])"
   ]
  },
  {
   "cell_type": "code",
   "execution_count": 12,
   "metadata": {},
   "outputs": [
    {
     "data": {
      "text/plain": [
       "Scheduled Carriers    636\n",
       "Charter               573\n",
       "Commuter              458\n",
       "Name: FlightType, dtype: int64"
      ]
     },
     "execution_count": 12,
     "metadata": {},
     "output_type": "execute_result"
    }
   ],
   "source": [
    "carrier['FlightType'].value_counts()"
   ]
  },
  {
   "cell_type": "code",
   "execution_count": 13,
   "metadata": {},
   "outputs": [],
   "source": [
    "sc = pd.DataFrame(carrier.loc[carrier['FlightType']=='Scheduled Carriers'].describe())\n",
    "cc = pd.DataFrame(carrier.loc[carrier['FlightType']=='Commuter'].describe())\n",
    "ch = pd.DataFrame(carrier.loc[carrier['FlightType']=='Charter'].describe())"
   ]
  },
  {
   "cell_type": "code",
   "execution_count": 14,
   "metadata": {},
   "outputs": [],
   "source": [
    "carrier['Year'] = carrier['YearMonth'].dt.year"
   ]
  },
  {
   "cell_type": "code",
   "execution_count": 15,
   "metadata": {},
   "outputs": [
    {
     "data": {
      "text/plain": [
       "Year\n",
       "2014    550473758\n",
       "2015     73590772\n",
       "2016     79955984\n",
       "2017     84042973\n",
       "2018     87269743\n",
       "2019     34349729\n",
       "Name: Passenger_Count, dtype: int64"
      ]
     },
     "execution_count": 15,
     "metadata": {},
     "output_type": "execute_result"
    }
   ],
   "source": [
    "carrier.groupby('Year')['Passenger_Count'].sum()"
   ]
  },
  {
   "cell_type": "code",
   "execution_count": 16,
   "metadata": {},
   "outputs": [
    {
     "data": {
      "text/html": [
       "<div>\n",
       "<style scoped>\n",
       "    .dataframe tbody tr th:only-of-type {\n",
       "        vertical-align: middle;\n",
       "    }\n",
       "\n",
       "    .dataframe tbody tr th {\n",
       "        vertical-align: top;\n",
       "    }\n",
       "\n",
       "    .dataframe thead th {\n",
       "        text-align: right;\n",
       "    }\n",
       "</style>\n",
       "<table border=\"1\" class=\"dataframe\">\n",
       "  <thead>\n",
       "    <tr style=\"text-align: right;\">\n",
       "      <th></th>\n",
       "      <th>DataExtractDate</th>\n",
       "      <th>ReportPeriod</th>\n",
       "      <th>Arrival_Departure</th>\n",
       "      <th>Domestic_International</th>\n",
       "      <th>FlightType</th>\n",
       "      <th>Passenger_Count</th>\n",
       "      <th>YearMonth</th>\n",
       "      <th>Year</th>\n",
       "    </tr>\n",
       "  </thead>\n",
       "  <tbody>\n",
       "    <tr>\n",
       "      <th>2</th>\n",
       "      <td>2014-05-01T00:00:00.000</td>\n",
       "      <td>2006-01-01T00:00:00.000</td>\n",
       "      <td>Arrival</td>\n",
       "      <td>Domestic</td>\n",
       "      <td>Scheduled Carriers</td>\n",
       "      <td>1538812</td>\n",
       "      <td>2014-05-01</td>\n",
       "      <td>2014</td>\n",
       "    </tr>\n",
       "    <tr>\n",
       "      <th>5</th>\n",
       "      <td>2014-05-01T00:00:00.000</td>\n",
       "      <td>2006-01-01T00:00:00.000</td>\n",
       "      <td>Arrival</td>\n",
       "      <td>International</td>\n",
       "      <td>Scheduled Carriers</td>\n",
       "      <td>742810</td>\n",
       "      <td>2014-05-01</td>\n",
       "      <td>2014</td>\n",
       "    </tr>\n",
       "    <tr>\n",
       "      <th>8</th>\n",
       "      <td>2014-05-01T00:00:00.000</td>\n",
       "      <td>2006-01-01T00:00:00.000</td>\n",
       "      <td>Departure</td>\n",
       "      <td>Domestic</td>\n",
       "      <td>Scheduled Carriers</td>\n",
       "      <td>1492469</td>\n",
       "      <td>2014-05-01</td>\n",
       "      <td>2014</td>\n",
       "    </tr>\n",
       "    <tr>\n",
       "      <th>11</th>\n",
       "      <td>2014-05-01T00:00:00.000</td>\n",
       "      <td>2006-01-01T00:00:00.000</td>\n",
       "      <td>Departure</td>\n",
       "      <td>International</td>\n",
       "      <td>Scheduled Carriers</td>\n",
       "      <td>694117</td>\n",
       "      <td>2014-05-01</td>\n",
       "      <td>2014</td>\n",
       "    </tr>\n",
       "    <tr>\n",
       "      <th>14</th>\n",
       "      <td>2014-05-01T00:00:00.000</td>\n",
       "      <td>2006-02-01T00:00:00.000</td>\n",
       "      <td>Arrival</td>\n",
       "      <td>Domestic</td>\n",
       "      <td>Scheduled Carriers</td>\n",
       "      <td>1385488</td>\n",
       "      <td>2014-05-01</td>\n",
       "      <td>2014</td>\n",
       "    </tr>\n",
       "  </tbody>\n",
       "</table>\n",
       "</div>"
      ],
      "text/plain": [
       "            DataExtractDate             ReportPeriod Arrival_Departure  \\\n",
       "2   2014-05-01T00:00:00.000  2006-01-01T00:00:00.000           Arrival   \n",
       "5   2014-05-01T00:00:00.000  2006-01-01T00:00:00.000           Arrival   \n",
       "8   2014-05-01T00:00:00.000  2006-01-01T00:00:00.000         Departure   \n",
       "11  2014-05-01T00:00:00.000  2006-01-01T00:00:00.000         Departure   \n",
       "14  2014-05-01T00:00:00.000  2006-02-01T00:00:00.000           Arrival   \n",
       "\n",
       "   Domestic_International          FlightType  Passenger_Count  YearMonth  \\\n",
       "2                Domestic  Scheduled Carriers          1538812 2014-05-01   \n",
       "5           International  Scheduled Carriers           742810 2014-05-01   \n",
       "8                Domestic  Scheduled Carriers          1492469 2014-05-01   \n",
       "11          International  Scheduled Carriers           694117 2014-05-01   \n",
       "14               Domestic  Scheduled Carriers          1385488 2014-05-01   \n",
       "\n",
       "    Year  \n",
       "2   2014  \n",
       "5   2014  \n",
       "8   2014  \n",
       "11  2014  \n",
       "14  2014  "
      ]
     },
     "execution_count": 16,
     "metadata": {},
     "output_type": "execute_result"
    }
   ],
   "source": [
    "carrier.loc[carrier['FlightType']=='Scheduled Carriers'].head()"
   ]
  },
  {
   "cell_type": "code",
   "execution_count": 17,
   "metadata": {},
   "outputs": [
    {
     "data": {
      "text/plain": [
       "Year\n",
       "2014    1.216708e+06\n",
       "2015    1.532368e+06\n",
       "2016    1.664387e+06\n",
       "2017    1.750422e+06\n",
       "2018    1.817699e+06\n",
       "2019    1.717060e+06\n",
       "Name: Passenger_Count, dtype: float64"
      ]
     },
     "execution_count": 17,
     "metadata": {},
     "output_type": "execute_result"
    }
   ],
   "source": [
    "carrier.loc[carrier['FlightType']=='Scheduled Carriers'].groupby('Year')['Passenger_Count'].mean()"
   ]
  },
  {
   "cell_type": "code",
   "execution_count": 18,
   "metadata": {},
   "outputs": [],
   "source": [
    "sc = sc.merge(cc,left_index=True,right_index=True)\n",
    "sc = sc.merge(ch,left_index=True,right_index=True)"
   ]
  },
  {
   "cell_type": "code",
   "execution_count": 19,
   "metadata": {},
   "outputs": [
    {
     "data": {
      "text/html": [
       "<div>\n",
       "<style scoped>\n",
       "    .dataframe tbody tr th:only-of-type {\n",
       "        vertical-align: middle;\n",
       "    }\n",
       "\n",
       "    .dataframe tbody tr th {\n",
       "        vertical-align: top;\n",
       "    }\n",
       "\n",
       "    .dataframe thead th {\n",
       "        text-align: right;\n",
       "    }\n",
       "</style>\n",
       "<table border=\"1\" class=\"dataframe\">\n",
       "  <thead>\n",
       "    <tr style=\"text-align: right;\">\n",
       "      <th></th>\n",
       "      <th>Passenger_Count_x</th>\n",
       "      <th>Passenger_Count_y</th>\n",
       "      <th>Passenger_Count</th>\n",
       "    </tr>\n",
       "  </thead>\n",
       "  <tbody>\n",
       "    <tr>\n",
       "      <th>count</th>\n",
       "      <td>6.360000e+02</td>\n",
       "      <td>458.000000</td>\n",
       "      <td>573.00000</td>\n",
       "    </tr>\n",
       "    <tr>\n",
       "      <th>mean</th>\n",
       "      <td>1.375691e+06</td>\n",
       "      <td>74888.017467</td>\n",
       "      <td>776.56719</td>\n",
       "    </tr>\n",
       "    <tr>\n",
       "      <th>std</th>\n",
       "      <td>6.584801e+05</td>\n",
       "      <td>81378.946758</td>\n",
       "      <td>1473.75622</td>\n",
       "    </tr>\n",
       "    <tr>\n",
       "      <th>min</th>\n",
       "      <td>5.044420e+05</td>\n",
       "      <td>0.000000</td>\n",
       "      <td>0.00000</td>\n",
       "    </tr>\n",
       "    <tr>\n",
       "      <th>25%</th>\n",
       "      <td>7.441540e+05</td>\n",
       "      <td>3361.750000</td>\n",
       "      <td>169.00000</td>\n",
       "    </tr>\n",
       "    <tr>\n",
       "      <th>50%</th>\n",
       "      <td>1.270682e+06</td>\n",
       "      <td>5303.500000</td>\n",
       "      <td>460.00000</td>\n",
       "    </tr>\n",
       "    <tr>\n",
       "      <th>75%</th>\n",
       "      <td>1.875926e+06</td>\n",
       "      <td>151437.250000</td>\n",
       "      <td>916.00000</td>\n",
       "    </tr>\n",
       "    <tr>\n",
       "      <th>max</th>\n",
       "      <td>2.924691e+06</td>\n",
       "      <td>263277.000000</td>\n",
       "      <td>26600.00000</td>\n",
       "    </tr>\n",
       "  </tbody>\n",
       "</table>\n",
       "</div>"
      ],
      "text/plain": [
       "       Passenger_Count_x  Passenger_Count_y  Passenger_Count\n",
       "count       6.360000e+02         458.000000        573.00000\n",
       "mean        1.375691e+06       74888.017467        776.56719\n",
       "std         6.584801e+05       81378.946758       1473.75622\n",
       "min         5.044420e+05           0.000000          0.00000\n",
       "25%         7.441540e+05        3361.750000        169.00000\n",
       "50%         1.270682e+06        5303.500000        460.00000\n",
       "75%         1.875926e+06      151437.250000        916.00000\n",
       "max         2.924691e+06      263277.000000      26600.00000"
      ]
     },
     "execution_count": 19,
     "metadata": {},
     "output_type": "execute_result"
    }
   ],
   "source": [
    "sc"
   ]
  },
  {
   "cell_type": "code",
   "execution_count": 20,
   "metadata": {},
   "outputs": [],
   "source": [
    "def cagr(start_num,end_num,year):\n",
    "    return (end_num / start_num)**(1/year)-1"
   ]
  },
  {
   "cell_type": "code",
   "execution_count": 21,
   "metadata": {},
   "outputs": [
    {
     "name": "stdout",
     "output_type": "stream",
     "text": [
      "7.13%\n"
     ]
    }
   ],
   "source": [
    "print('{:.2%}'.format(cagr(1216708000000,1717060000000,5)))"
   ]
  },
  {
   "cell_type": "code",
   "execution_count": 23,
   "metadata": {},
   "outputs": [
    {
     "data": {
      "text/plain": [
       "<Figure size 1200x1000 with 0 Axes>"
      ]
     },
     "metadata": {},
     "output_type": "display_data"
    },
    {
     "data": {
      "image/png": "[encoded data removed]",
      "text/plain": [
       "<Figure size 640x480 with 1 Axes>"
      ]
     },
     "metadata": {},
     "output_type": "display_data"
    }
   ],
   "source": [
    "plt.figure(figsize=(12,10))\n",
    "fig, ax = plt.subplots()\n",
    "sns.lineplot(x=carrier['YearMonth'],y=carrier['Passenger_Count'],size=carrier['FlightType'],sizes=(4.25,1.5),\n",
    "             ci=False,hue=carrier['FlightType'],ax=ax,legend=False,palette=['gray','gray','#ac3973'])\n",
    "ax.tick_params(direction='out',axis='x',which='major',bottom=True,top=False,\n",
    "               length=12,width=2,color='gray')\n",
    "ax.set_xticklabels(['Year',2014,2015,2016,2017,2018,2019])\n",
    "ax.set_ylim(0,2500000)\n",
    "ax.set_xlim('2013-01-01','2019-12-15')\n",
    "ax.grid(None)\n",
    "ax.spines['top'].set_visible(False)\n",
    "ax.spines['right'].set_visible(False)\n",
    "ax.set_ylabel('Passenger Count')\n",
    "ax.set_xlabel(None)\n",
    "ax.set_title('Passenger average volume growth',loc='left',fontsize=14,pad=24.2)\n",
    "ax.text('2019-05-30',250000,'commuter & charter carriers',fontsize=12,color='gray')\n",
    "ax.text('2019-05-30',1850000,'scheduled carriers ',fontsize=12,color='#ac3973')\n",
    "ax.text('2014-04-01',2340000,'--------- compound annual growth of 7.13% ------------',fontsize=10.5,color='#c6538c')\n",
    "ax.text('2015-02-01',250000,'commuter segment went shut down \\n by end of 2017',fontsize=10.5,color='gray')\n",
    "plt.show()"
   ]
  },
  {
   "cell_type": "code",
   "execution_count": null,
   "metadata": {},
   "outputs": [],
   "source": []
  }
 ],
 "metadata": {
  "kernelspec": {
   "display_name": "Python 3",
   "language": "python",
   "name": "python3"
  },
  "language_info": {
   "codemirror_mode": {
    "name": "ipython",
    "version": 3
   },
   "file_extension": ".py",
   "mimetype": "text/x-python",
   "name": "python",
   "nbconvert_exporter": "python",
   "pygments_lexer": "ipython3",
   "version": "3.7.1"
  }
 },
 "nbformat": 4,
 "nbformat_minor": 2
}
